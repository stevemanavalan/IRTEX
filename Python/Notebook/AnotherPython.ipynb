{
 "cells": [
  {
   "cell_type": "code",
   "execution_count": 69,
   "metadata": {},
   "outputs": [
    {
     "name": "stdout",
     "output_type": "stream",
     "text": [
      "[{\"ObjectId\": \"\", \"name\": \"0001.png\", \"score\": \"0.9999999999999994\", \"color\": \"\", \"fg\": \"\"}, {\"ObjectId\": \"\", \"name\": \"0686.png\", \"score\": \"0.9757607692265498\", \"color\": \"\", \"fg\": \"\"}, {\"ObjectId\": \"\", \"name\": \"4484.png\", \"score\": \"0.9712779306377404\", \"color\": \"\", \"fg\": \"\"}, {\"ObjectId\": \"\", \"name\": \"1543.png\", \"score\": \"0.9648285119963779\", \"color\": \"\", \"fg\": \"\"}, {\"ObjectId\": \"\", \"name\": \"3208.png\", \"score\": \"0.9636726423311042\", \"color\": \"\", \"fg\": \"\"}, {\"ObjectId\": \"\", \"name\": \"1221.png\", \"score\": \"0.9629862477926363\", \"color\": \"\", \"fg\": \"\"}, {\"ObjectId\": \"\", \"name\": \"0296.png\", \"score\": \"0.9626737366238642\", \"color\": \"\", \"fg\": \"\"}, {\"ObjectId\": \"\", \"name\": \"2963.png\", \"score\": \"0.9617119281164258\", \"color\": \"\", \"fg\": \"\"}, {\"ObjectId\": \"\", \"name\": \"2841.png\", \"score\": \"0.9610907505602618\", \"color\": \"\", \"fg\": \"\"}, {\"ObjectId\": \"\", \"name\": \"2932.png\", \"score\": \"0.9610134807438825\", \"color\": \"\", \"fg\": \"\"}]\n"
     ]
    }
   ],
   "source": [
    "from sys import argv\n",
    "from sklearn.metrics.pairwise import cosine_similarity\n",
    "from PIL import Image\n",
    "import subprocess\n",
    "import json\n",
    "import os\n",
    "import pandas as pd\n",
    "import matplotlib.pyplot as plt\n",
    "import sys\n",
    "\n",
    "token = argv[1]\n",
    "data = argv[2]\n",
    "\n",
    "if token == '-f':\n",
    "    # creating feature vector for dataset and storing in csv\n",
    "    subprocess.call(['java', '-jar', 'mpegfeatures.jar', '-f', data])\n",
    "    sys.exit(0)\n",
    "elif token == '-i':\n",
    "    # creating feature vector for query image and storing in csv\n",
    "    subprocess.call(['java', '-jar', 'mpegfeatures.jar', '-i', data])\n",
    "    \n",
    "# Read dataset feature vectors\n",
    "data_features = pd.read_csv('outputFeature.csv', header=None)\n",
    "# Dropping 1st column from the dataframe\n",
    "data_feature_vector = data_features.drop(columns=[0])\n",
    "\n",
    "# Read query image feature vector\n",
    "query_feature = pd.read_csv('queryFeature.csv', header=None)\n",
    "# Dropping 1st column from the dataframe\n",
    "query_feature_vector = query_feature.drop(columns=[0])\n",
    "\n",
    "# cosine similarity between query image and complete dataset\n",
    "cos_sim = cosine_similarity(query_feature_vector, data_feature_vector).flatten()\n",
    "\n",
    "# Create cosine similarity values dataframe\n",
    "cos_sim_df = pd.DataFrame(cos_sim, columns=['cos_sim'])\n",
    "# Add cosine similarity as lasy column in data feature dataframe as ground truth\n",
    "dataset = pd.concat([data_features, cos_sim_df], axis=1)\n",
    "\n",
    "# sorting result in descending order\n",
    "sort_result = dataset.sort_values(by='cos_sim', ascending=False)[[0, 'cos_sim']].head(10)\n",
    "\n",
    "# converting result to json format\n",
    "json_array = []\n",
    "for i in sort_result.index:\n",
    "    x = {\n",
    "        \"ObjectId\" : \"\",\n",
    "        \"name\": os.path.basename(sort_result[0][i]),\n",
    "        \"score\": os.path.basename(str(sort_result['cos_sim'][i])),\n",
    "        \"color\": \"\",\n",
    "        \"fg\" : \"\"\n",
    "    }\n",
    "    json_array.append(x)\n",
    "# convert into JSON:\n",
    "json_data = json.dumps(json_array)\n",
    "print(json_data)\n"
   ]
  }
 ],
 "metadata": {
  "kernelspec": {
   "display_name": "Python 3",
   "language": "python",
   "name": "python3"
  },
  "language_info": {
   "codemirror_mode": {
    "name": "ipython",
    "version": 3
   },
   "file_extension": ".py",
   "mimetype": "text/x-python",
   "name": "python",
   "nbconvert_exporter": "python",
   "pygments_lexer": "ipython3",
   "version": "3.7.5"
  }
 },
 "nbformat": 4,
 "nbformat_minor": 4
}
